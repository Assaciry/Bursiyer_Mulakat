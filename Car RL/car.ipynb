{
 "cells": [
  {
   "cell_type": "code",
   "execution_count": 137,
   "metadata": {},
   "outputs": [],
   "source": [
    "import numpy as np, matplotlib.pyplot as plt, os, gym\n",
    "from shapely.geometry import Polygon, Point\n",
    "import matplotlib.pyplot as plt, matplotlib.patches as pat\n",
    "from scipy.spatial import KDTree\n",
    "from stable_baselines3 import PPO\n",
    "from stable_baselines3.common.env_util import make_vec_env\n",
    "from gym import spaces\n",
    "import warnings\n",
    "\n",
    "warnings.filterwarnings(\"ignore\")"
   ]
  },
  {
   "cell_type": "code",
   "execution_count": 138,
   "metadata": {},
   "outputs": [],
   "source": [
    "class Car_Sim():\n",
    "    \"\"\"\n",
    "    initial_states: initial states of the car = [x position, y position, heading angle, speed, steering angle]\n",
    "    dt: time step\n",
    "\n",
    "    U: control input = [acceleration, steering change], both are between [-1,1]\n",
    "    \"\"\"\n",
    "    def __init__(self, initial_states = np.zeros(5), dt = 0.02):\n",
    "        \"\"\" states = [x y theta speed steer] | input = [accel. dsteer]\"\"\"\n",
    "        self.states = initial_states\n",
    "        self.initial_states = initial_states\n",
    "        self.dt = dt\n",
    "\n",
    "        self.L = 3 # car length in meters\n",
    "        self.W = 1.5 # car width in meters\n",
    "        self.MAX_LIN_ACC = 5 # m/s^2\n",
    "        self.MAX_STEER_CHANGE = 10*np.pi/180 \n",
    "        self.MAX_SPEED = 20/3.6 # 20km/h\n",
    "    \n",
    "    def state_dot(self, X, U):\n",
    "        ct = np.cos(X[2]); st = np.sin(X[2])\n",
    "        \n",
    "        Xd = np.zeros_like(X)\n",
    "        # xdot, ydot\n",
    "        Xd[0] = X[3]*ct\n",
    "        Xd[1] = X[3]*st\n",
    "        # thetadot\n",
    "        Xd[2] = X[3]/self.L * np.tan(X[4])\n",
    "        # change in speed\n",
    "        Xd[3] = U[0]*self.MAX_LIN_ACC\n",
    "        # change in steering angle\n",
    "        Xd[4] = U[1]*self.MAX_STEER_CHANGE\n",
    "\n",
    "        return Xd\n",
    "\n",
    "    def step(self, uvec):\n",
    "        \"\"\"uvec[0]: change in speed | uvec[1] : change in steer both between -1 and 1\"\"\"\n",
    "        uvec[0] = min(max(uvec[0],-1.),1.)\n",
    "        uvec[1] = min(max(uvec[1],-1.),1.)\n",
    "\n",
    "        self.states = self.RK4(self.states, uvec, self.dt)\n",
    "\n",
    "        self.states[3] = min(max(self.states[3],0),self.MAX_SPEED) # max speed is ~100kmh\n",
    "        self.states[4] = min(max(self.states[4],-np.pi/2),np.pi/2) # abs(steering) < pi/2 \n",
    "\n",
    "        return self.states\n",
    "\n",
    "    def RK4(self,X,U,dt):\n",
    "        # Calculate slope estimates\n",
    "        K1 = self.state_dot(X, U)\n",
    "        K2 = self.state_dot(X + K1 * dt / 2, U)\n",
    "        K3 = self.state_dot(X + K2 * dt / 2, U)\n",
    "        K4 = self.state_dot(X + K3 * dt, U)\n",
    "\n",
    "        # Calculate x[k+1] estimate using combination of slope estimates\n",
    "        X_n = X + 1/6 * (K1 + 2*K2 + 2*K3 + K4) * dt\n",
    "\n",
    "        return X_n\n",
    "\n",
    "    def get_car_points(self):\n",
    "        angle = self.states[2]\n",
    "        ct = np.cos(angle); st = np.sin(angle)\n",
    "        points = np.array([\n",
    "            np.array([self.L/2, self.W/2]),\n",
    "            np.array([self.L/2, -self.W/2]),\n",
    "            np.array([-self.L/2, -self.W/2]),\n",
    "            np.array([-self.L/2, self.W/2])])\n",
    "        points = points@np.array([[ct, st],[-st, ct]])\n",
    "        return (self.states[:2] + points)\n",
    "\n",
    "    def get_car_polygon(self):\n",
    "        return Polygon(self.get_car_points())\n",
    "\n",
    "    def plot(self):\n",
    "        plt.gca().add_patch(pat.Polygon(self.get_car_points(),color='blue', fill=True))\n",
    "    \n",
    "    def reset(self):\n",
    "        self.states = self.initial_states"
   ]
  },
  {
   "attachments": {},
   "cell_type": "markdown",
   "metadata": {},
   "source": [
    "Create the static environment for the simulation consisting of obstacles which is implemented in _Obstacle_ class (inspired by: https://github.com/FelicienC/RRT-Dubins)"
   ]
  },
  {
   "cell_type": "code",
   "execution_count": 139,
   "metadata": {},
   "outputs": [],
   "source": [
    "class Obstacle:\n",
    "    def __init__(self, map_dimensions, size, nb_pts):\n",
    "        self.center = np.array([np.random.rand()*map_dimensions[0],\n",
    "                                np.random.rand()*map_dimensions[1]])\n",
    "        \n",
    "        angles = sorted((np.random.rand()*2*np.pi for _ in range(nb_pts)))\n",
    "        self.points = \\\n",
    "            np.array([self.center +\\\n",
    "                      np.array([size*np.cos(angle), size*np.sin(angle)])\\\n",
    "                      for angle in angles])\n",
    "        self.bounding_box = (min(self.points, key=lambda x: x[0])[0],\n",
    "                             min(self.points, key=lambda x: x[1])[1],\n",
    "                             max(self.points, key=lambda x: x[0])[0],\n",
    "                             max(self.points, key=lambda x: x[1])[1])\n",
    "        self.polygon = Polygon(self.points)\n",
    "\n",
    "    def colides(self, polygon):\n",
    "        return self.polygon.intersects(polygon)\n",
    "    \n",
    "    def distance(self,polygon):\n",
    "        return self.polygon.distance(polygon)\n",
    "\n",
    "    def plot(self):\n",
    "        plt.gca().add_patch(pat.Polygon(self.points, color='black', fill=True))"
   ]
  },
  {
   "cell_type": "code",
   "execution_count": 140,
   "metadata": {},
   "outputs": [],
   "source": [
    "class StaticEnvironment:\n",
    "    def __init__(self, dimensions, nb_obstacles, A, B):\n",
    "        self.dimensions = dimensions\n",
    "        self.obstacles = [Obstacle(dimensions, 0.05*dimensions[0],5)\\\n",
    "                          for _ in range(nb_obstacles)]\n",
    "        self.kdtree = KDTree([obs.center for obs in self.obstacles])\n",
    "\n",
    "        self.start_point = A\n",
    "        self.end_point = B\n",
    "    \n",
    "    def is_free(self, center, car_poly : Polygon):\n",
    "        x,y = center\n",
    "        if x < 0 or x > self.dimensions[0] or y < 0 or y > self.dimensions[1]:\n",
    "            return False\n",
    "        obstacles = self.close_obstacles(x,y, nb_obstacles=2)\n",
    "        for obstacle in obstacles:\n",
    "            if obstacle.colides(car_poly):\n",
    "                return False\n",
    "        return True\n",
    "\n",
    "    def distances_to_close_obstacles(self, center, car_poly:Polygon,nb_obstacles=3):\n",
    "        x,y = center\n",
    "        obstacles = self.close_obstacles(x,y,nb_obstacles)\n",
    "        dists = np.zeros(nb_obstacles)\n",
    "        for i,obst in enumerate(obstacles):\n",
    "            dists[i] = obst.distance(car_poly)\n",
    "        return dists\n",
    "\n",
    "    def close_obstacles(self, x, y, nb_obstacles=1):\n",
    "        return [self.obstacles[index]\\\n",
    "                for index in self.kdtree.query((x, y), nb_obstacles)[1]]\n",
    "\n",
    "    def plot(self, close=False, display=True):        \n",
    "        plt.ion() if display else plt.ioff()\n",
    "        for obstacle in self.obstacles:\n",
    "            obstacle.plot()\n",
    "        plt.plot(self.start_point[0], self.start_point[1], marker=\"o\", \\\n",
    "                 markersize=7,markeredgecolor=\"black\", markerfacecolor=\"green\")\n",
    "        plt.plot(self.end_point[0], self.end_point[1], marker=\"o\",  \\\n",
    "                 markersize=7,markeredgecolor=\"black\", markerfacecolor=\"red\")\n",
    "        plt.text(*(self.start_point-np.array([4,0])), \"A\", fontsize=12,c=\"green\")\n",
    "        plt.text(*(self.end_point+np.array([2,0])), \"B\", fontsize=12,c=\"red\")\n",
    "        plt.gca().set_xlim(0, self.dimensions[0])\n",
    "        plt.gca().set_ylim(0, self.dimensions[1])\n",
    "        if close:\n",
    "            plt.close()"
   ]
  },
  {
   "cell_type": "code",
   "execution_count": 141,
   "metadata": {},
   "outputs": [],
   "source": [
    "class CarSimEnv():\n",
    "    def __init__(self, heading = 0., speed = 0., steer= 0., dt = 0.02, dimensions = (60,50), \n",
    "                 nb_obstacles = 15, A = np.array([2.,4.]), B = np.array([55.,45.])):\n",
    "        self.car_sim = Car_Sim(np.concatenate((A,np.array([heading,speed,steer]))),dt)\n",
    "        self.static_env = StaticEnvironment(dimensions,nb_obstacles,A, B)\n",
    "        self.goal_pos = B\n",
    "\n",
    "    def check_collision(self):\n",
    "        return (not self.static_env.is_free(self.car_sim.states[:2],\n",
    "                                            self.car_sim.get_car_polygon()))\n",
    "    \n",
    "    def dist_to_goal(self):\n",
    "        return np.linalg.norm(self.car_sim.states[:2]-self.goal_pos)\n",
    "    \n",
    "    def distances_to_close_obstacles(self):\n",
    "        return self.static_env.distances_to_close_obstacles(self.car_sim.states[:2],\n",
    "                                                            self.car_sim.get_car_polygon())\n",
    "    \n",
    "    def has_reached_goal(self,eps):\n",
    "        return self.dist_to_goal() < eps\n",
    "\n",
    "    def plot(self):\n",
    "        self.static_env.plot(display=False)\n",
    "        self.car_sim.plot()\n",
    " "
   ]
  },
  {
   "cell_type": "code",
   "execution_count": 142,
   "metadata": {},
   "outputs": [
    {
     "data": {
      "image/png": "[encoded data removed]",
      "text/plain": [
       "<Figure size 432x360 with 1 Axes>"
      ]
     },
     "metadata": {
      "needs_background": "light"
     },
     "output_type": "display_data"
    }
   ],
   "source": [
    "np.random.seed(11)\n",
    "cse = CarSimEnv()\n",
    "plt.figure(1,figsize=(6,5))\n",
    "cse.plot()"
   ]
  },
  {
   "attachments": {},
   "cell_type": "markdown",
   "metadata": {},
   "source": [
    "Create the gym environment for that _CarSimEnv_, just the gymification of it."
   ]
  },
  {
   "cell_type": "code",
   "execution_count": 157,
   "metadata": {},
   "outputs": [],
   "source": [
    "class CarGymEnv(gym.Env):\n",
    "    metadata = {'render_modes' : ['human']}\n",
    "\n",
    "    def __init__(self) -> None:\n",
    "        super().__init__()\n",
    "\n",
    "        self.carsimenv = CarSimEnv()\n",
    "        self.time = 0.\n",
    "        self.steps = 0\n",
    "        self.MAX_SIM_TIME = 30\n",
    "        self.current_best_distance = self.carsimenv.dist_to_goal()\n",
    "        self.initial_distance = self.current_best_distance\n",
    "        self.done_info = \"\"\n",
    "\n",
    "        # state_sample = [x,y,heading,speed,steer] from R^5\n",
    "        self.action_space = spaces.Box(\n",
    "            low =  np.array([ -1., -1.]),\n",
    "            high =  np.array([1.,   1.]))\n",
    "        self.observation_space = spaces.Box(\n",
    "            low =  np.array([0.,0.,-np.inf,0.,-np.pi/2]),\n",
    "            high = np.array([200.,200.,np.inf,self.carsimenv.car_sim.MAX_SPEED,np.pi/2]))\n",
    "        \n",
    "        self.reset()\n",
    "    \n",
    "    def step(self, action):\n",
    "        self.time += self.carsimenv.car_sim.dt\n",
    "        self.steps += 1\n",
    "\n",
    "        prev_dist = self.carsimenv.dist_to_goal()\n",
    "        new_states = self.carsimenv.car_sim.step(action)\n",
    "        new_dist = self.carsimenv.dist_to_goal()\n",
    "\n",
    "        # calculate reward\n",
    "        reward = -1. # r_step\n",
    "        # r_closer\n",
    "        reward += (prev_dist-new_dist)*5. #\n",
    "        # r_closer_ring_around_goal\n",
    "        if new_dist < self.current_best_distance-1.:\n",
    "            self.current_best_distance = new_dist\n",
    "            reward += 15.*(self.initial_distance-new_dist)/self.initial_distance\n",
    "        # r_input_norm\n",
    "        reward -= np.abs(action[1])\n",
    "        # r_speed\n",
    "        #reward += self.carsimenv.car_sim.states[3]/27. # normalize with max speed (~27m/s)\n",
    "        # r_close_to_obstacle\n",
    "        dists_to_close_obs = self.carsimenv.distances_to_close_obstacles()\n",
    "        clipped_dists = np.clip(3.-dists_to_close_obs,a_min=0.,a_max=3.)/6.\n",
    "        reward -= np.sum(clipped_dists)\n",
    "\n",
    "        crashed = self.carsimenv.check_collision()\n",
    "        reached_goal = self.carsimenv.has_reached_goal(0.5)\n",
    "\n",
    "        # r_crashed\n",
    "        if crashed:\n",
    "            self.done_info = \"crashed\"\n",
    "            reward -= 100.\n",
    "        # r_success\n",
    "        if reached_goal:\n",
    "            print(\"DONE!\")\n",
    "            self.done_info = \"reached_goal\"\n",
    "            reward += 100.\n",
    "        # r_maxiter\n",
    "        reached_maxiter = False\n",
    "        if self.time >= self.MAX_SIM_TIME:\n",
    "            self.done_info = \"reached_maxiter\"\n",
    "            reward -= 50.\n",
    "            reached_maxiter = True\n",
    "\n",
    "        # check if done\n",
    "        done = (crashed or reached_goal or reached_maxiter)\n",
    "\n",
    "        # info\n",
    "        info = {\"steps\" : self.steps, \"sim_time\" : self.time, \"done_info\" : self.done_info}\n",
    "\n",
    "        return new_states, reward, done, info\n",
    "\n",
    "    def reset(self):\n",
    "        self.carsimenv.car_sim.reset()\n",
    "        self.time = 0.\n",
    "        self.steps = 0\n",
    "        self.current_best_distance = self.initial_distance\n",
    "        self.done_info = \"\"\n",
    "        return self.carsimenv.car_sim.states\n",
    "\n",
    "    def render(self,mode=\"human\"):\n",
    "        if mode == \"human\":\n",
    "            self.carsimenv.plot()\n",
    "\n",
    "    def close(self):\n",
    "        pass"
   ]
  },
  {
   "cell_type": "code",
   "execution_count": 158,
   "metadata": {},
   "outputs": [
    {
     "data": {
      "image/png": "[encoded data removed]",
      "text/plain": [
       "<Figure size 432x288 with 1 Axes>"
      ]
     },
     "metadata": {
      "needs_background": "light"
     },
     "output_type": "display_data"
    },
    {
     "name": "stdout",
     "output_type": "stream",
     "text": [
      "[[2. 4. 0. 0. 0.]\n",
      " [2. 4. 0. 0. 0.]\n",
      " [2. 4. 0. 0. 0.]\n",
      " [2. 4. 0. 0. 0.]]\n"
     ]
    }
   ],
   "source": [
    "np.random.seed(11)\n",
    "env = CarGymEnv()\n",
    "plt.figure()\n",
    "env.render()\n",
    "plt.show()\n",
    "\n",
    "env = make_vec_env(CarGymEnv, n_envs=4)\n",
    "print(env.reset())"
   ]
  },
  {
   "cell_type": "code",
   "execution_count": 129,
   "metadata": {},
   "outputs": [],
   "source": [
    "log_dir = \"logs\"\n",
    "models_dir = \"models/PPO\"\n",
    "\n",
    "if not os.path.exists(models_dir):\n",
    "    os.makedirs(models_dir)\n",
    "\n",
    "if not os.path.exists(log_dir):\n",
    "    os.makedirs(log_dir)"
   ]
  },
  {
   "cell_type": "markdown",
   "metadata": {},
   "source": [
    "PPO"
   ]
  },
  {
   "cell_type": "code",
   "execution_count": null,
   "metadata": {},
   "outputs": [],
   "source": [
    "model = PPO(\"MlpPolicy\", env, verbose=1,device=\"cuda\")\n",
    "\n",
    "TIME_STEPS = 15000\n",
    "i = 1\n",
    "while True:\n",
    "    model.learn(total_timesteps=TIME_STEPS,reset_num_timesteps=False)\n",
    "    if i%20 == 0:\n",
    "        model.save(f\"{models_dir}/PPO_carsim_{i//20}\")\n",
    "    i+=1"
   ]
  },
  {
   "attachments": {},
   "cell_type": "markdown",
   "metadata": {},
   "source": [
    "Test the trained agent"
   ]
  },
  {
   "cell_type": "code",
   "execution_count": 159,
   "metadata": {},
   "outputs": [],
   "source": [
    "np.random.seed(11)\n",
    "env = CarGymEnv()"
   ]
  },
  {
   "cell_type": "code",
   "execution_count": 160,
   "metadata": {},
   "outputs": [
    {
     "data": {
      "image/png": "[encoded data removed]",
      "text/plain": [
       "<Figure size 432x288 with 1 Axes>"
      ]
     },
     "metadata": {
      "needs_background": "light"
     },
     "output_type": "display_data"
    },
    {
     "name": "stdout",
     "output_type": "stream",
     "text": [
      "-186.38359688407508\n"
     ]
    }
   ],
   "source": [
    "done = False\n",
    "\n",
    "model = PPO.load(\"D:\\ITU\\TUBITAK Proje\\Codes\\Car RL\\models\\PPO_carsim_4.zip\")\n",
    "i=0\n",
    "obs = env.reset()\n",
    "plt.figure()\n",
    "plt.ion()\n",
    "cum_rew = 0\n",
    "pos_vec = []\n",
    "while not done:\n",
    "    pos_vec.append(env.carsimenv.car_sim.states[:2])\n",
    "    action, _states = model.predict(obs)\n",
    "    obs, reward, done, info = env.step(action)\n",
    "    cum_rew+=reward\n",
    "    if i%20==0:    \n",
    "        env.render()\n",
    "    i+=1\n",
    "\n",
    "plt.show()\n",
    "print(cum_rew)\n",
    "pos_vec = np.array(pos_vec)"
   ]
  },
  {
   "attachments": {},
   "cell_type": "markdown",
   "metadata": {},
   "source": [
    "Visualize the trajectory that car followed"
   ]
  },
  {
   "cell_type": "code",
   "execution_count": 161,
   "metadata": {},
   "outputs": [
    {
     "data": {
      "image/png": "[encoded data removed]",
      "text/plain": [
       "<Figure size 432x288 with 1 Axes>"
      ]
     },
     "metadata": {
      "needs_background": "light"
     },
     "output_type": "display_data"
    }
   ],
   "source": [
    "col = \"green\" if info[\"done_info\"] == \"reached_goal\" else \"red\"\n",
    "\n",
    "plt.figure()\n",
    "env.render()\n",
    "plt.plot(pos_vec[:,0],pos_vec[:,1], color=col)\n",
    "plt.show()"
   ]
  }
 ],
 "metadata": {
  "kernelspec": {
   "display_name": "Python 3 (ipykernel)",
   "language": "python",
   "name": "python3"
  },
  "language_info": {
   "codemirror_mode": {
    "name": "ipython",
    "version": 3
   },
   "file_extension": ".py",
   "mimetype": "text/x-python",
   "name": "python",
   "nbconvert_exporter": "python",
   "pygments_lexer": "ipython3",
   "version": "3.9.7"
  }
 },
 "nbformat": 4,
 "nbformat_minor": 2
}
